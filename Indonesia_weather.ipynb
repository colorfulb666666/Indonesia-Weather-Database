{
  "cells": [
    {
      "cell_type": "code",
      "execution_count": null,
      "metadata": {
        "id": "0VfqskBJqjzB",
        "colab": {
          "base_uri": "https://localhost:8080/"
        },
        "outputId": "c2d3efe3-d03c-4c07-d6c9-3f9c7adefdcf"
      },
      "outputs": [
        {
          "output_type": "stream",
          "name": "stdout",
          "text": [
            "Mounted at /content/drive\n"
          ]
        }
      ],
      "source": [
        "from google.colab import drive\n",
        "drive.mount('/content/drive')\n",
        "\n",
        "import os, pathlib\n",
        "\n",
        "# pillow image manipulation library\n",
        "from PIL import Image\n",
        "\n",
        "# display funtion to present the image inline in Jupyter\n",
        "from IPython.display import display\n",
        "\n",
        "# path to figures directory\n",
        "figuresPath = '/content/drive/MyDrive/Colab Notebooks/figures/'"
      ]
    },
    {
      "cell_type": "code",
      "execution_count": null,
      "metadata": {
        "id": "A3_Oy85CpL8F",
        "colab": {
          "base_uri": "https://localhost:8080/"
        },
        "outputId": "3dd03ae6-883a-4113-b066-cfbdfe81dbc8"
      },
      "outputs": [
        {
          "output_type": "stream",
          "name": "stdout",
          "text": [
            "Looking in indexes: https://pypi.org/simple, https://us-python.pkg.dev/colab-wheels/public/simple/\n",
            "Collecting wget\n",
            "  Downloading wget-3.2.zip (10 kB)\n",
            "Building wheels for collected packages: wget\n",
            "  Building wheel for wget (setup.py) ... \u001b[?25l\u001b[?25hdone\n",
            "  Created wheel for wget: filename=wget-3.2-py3-none-any.whl size=9674 sha256=440a234e501cd4822226cbf727d719e61f4b68cc0ef836b1809707ccd277a085\n",
            "  Stored in directory: /root/.cache/pip/wheels/a1/b6/7c/0e63e34eb06634181c63adacca38b79ff8f35c37e3c13e3c02\n",
            "Successfully built wget\n",
            "Installing collected packages: wget\n",
            "Successfully installed wget-3.2\n"
          ]
        }
      ],
      "source": [
        "# Install the library on your environment\n",
        "!pip install wget"
      ]
    },
    {
      "cell_type": "code",
      "execution_count": null,
      "metadata": {
        "colab": {
          "base_uri": "https://localhost:8080/"
        },
        "id": "AhyXZAigpNZi",
        "outputId": "0bc88a09-25e3-45e4-a503-139344e06e37"
      },
      "outputs": [
        {
          "output_type": "stream",
          "name": "stdout",
          "text": [
            "/content/drive/MyDrive/Colab Notebooks/figures//p1 (1).png\n"
          ]
        }
      ],
      "source": [
        "# Import the library\n",
        "import wget\n",
        "\n",
        "# Setup URL and path variables\n",
        "baseURL = 'https://raw.githubusercontent.com/SundayLu17/test/main/'\n",
        "imageName = 'p1'\n",
        "imageExt = '.png'\n",
        "doc = imageName + imageExt\n",
        "fullURL = baseURL + doc\n",
        "\n",
        "# Download the file\n",
        "fileName = wget.download(fullURL, out=figuresPath)\n",
        "\n",
        "# Print the file name including the local path\n",
        "print(fileName)"
      ]
    },
    {
      "cell_type": "code",
      "execution_count": null,
      "metadata": {
        "colab": {
          "base_uri": "https://localhost:8080/"
        },
        "id": "izqil5dqq8hD",
        "outputId": "fdba39d0-8654-4522-ced4-34a0fad2a5ce"
      },
      "outputs": [
        {
          "output_type": "stream",
          "name": "stdout",
          "text": [
            "The data path you selected already exists\n"
          ]
        }
      ],
      "source": [
        "dataPath = '/content/drive/MyDrive/Colab Notebooks/data/'\n",
        "if not(os.path.exists(dataPath)):\n",
        "    path = pathlib.Path(dataPath)\n",
        "    path.mkdir(parents=True, exist_ok=True) # Can create the folders in the path if missing. No error if path exists\n",
        "else:\n",
        "    print('The data path you selected already exists')\n",
        "\n",
        "import sqlite3\n",
        "from sqlite3 import Error\n",
        "%matplotlib inline\n",
        "import matplotlib.pyplot as plt\n",
        "from matplotlib.pyplot import MultipleLocator\n",
        "\n",
        "def create_connection(db_file):\n",
        "    \"\"\" create a database connection to the SQLite database\n",
        "        specified by db_file\n",
        "    :param db_file: database file\n",
        "    :return: Connection object or None\n",
        "    \"\"\"\n",
        "    conn = None\n",
        "    try:\n",
        "        conn = sqlite3.connect(db_file)\n",
        "        return conn\n",
        "    except Error as e:\n",
        "        print(e)\n",
        " \n",
        "    return conn\n",
        "\n",
        "dataPath = '/content/drive/MyDrive/Colab Notebooks/data/'\n",
        "database = dataPath + 'WeatherProjection.db'\n",
        "conn = create_connection(database)"
      ]
    },
    {
      "cell_type": "markdown",
      "metadata": {
        "id": "MmuoQ58rFNqI"
      },
      "source": [
        "# **1. Station Report**\n"
      ]
    },
    {
      "cell_type": "markdown",
      "metadata": {
        "id": "JAls8AcRPBBf"
      },
      "source": [
        "# *a) Please input the name of the province to get some information {province_name}*"
      ]
    },
    {
      "cell_type": "code",
      "execution_count": null,
      "metadata": {
        "id": "8Q6Z7DemDhzI"
      },
      "outputs": [],
      "source": [
        "from string import Template\n",
        "import matplotlib.pyplot as plt\n",
        "def printProvinceInfo(conn):\n",
        "    p_name = input(\"Please input the name of the province to get some information: \")\n",
        "    \"\"\"\n",
        "    Print out the infomation of a station given a province_name\n",
        "    \"\"\"\n",
        "    s_n = []\n",
        "    r_n = []\n",
        "\n",
        "    with conn:\n",
        "        sql = \"SELECT station_name, region_name, province_id FROM station_detail WHERE province_id =(select province_id FROM province_detail WHERE province_name=?)\"\n",
        "        cur = conn.cursor()\n",
        "        cur.execute(sql, [p_name])\n",
        "        result_set = cur.fetchall()\n",
        "        if result_set == None:\n",
        "            print(\"No such province\")\n",
        "        else:\n",
        "            headers = [\"station_name\",\"region_name\"]\n",
        "            for result in result_set:\n",
        "              s_n.append(result[0])\n",
        "              r_n.append(result[1])\n",
        "            p_id = result[2]\n",
        "\n",
        "        sql = \"SELECT province_id, province_name FROM province_detail WHERE province_id =(select province_id FROM province_detail WHERE province_name=?)+1\"\n",
        "        cur = conn.cursor()\n",
        "        cur.execute(sql, [p_name])\n",
        "        result_set2 = cur.fetchall()\n",
        "        p_id = result_set2[0][0]\n",
        "        p_name2 = result_set2[0][1]\n",
        "\n",
        "\n",
        "    print(\"station name: \", s_n)\n",
        "    print(\"region name: \", r_n)\n",
        "    s =\"1.There are {$number} of weather stations in the {$province_name} province. The region of the forecast station is {$region_name}, the name is {$station_name} and the id of this province is {$province_id}\"\n",
        "    tmp = Template(s)\n",
        "    s_1 = tmp.safe_substitute(province_name = p_name, number = len(result_set), station_name = s_n, region_name = r_n, province_id = p_id)\n",
        "    print('===================================================================')\n",
        "    print(\"There are {} weather stations in the {} province. The stations are {}, which locate in the region of {} respectively.\".format(len(result_set),p_name,s_n,r_n))\n",
        "\n",
        "    s2 =\"2.{$province_name} is followed by {$province_name2} and the province id is {$province_id}.\"\n",
        "    tmp2 = Template(s2)"
      ]
    },
    {
      "cell_type": "markdown",
      "metadata": {
        "id": "JHv5PJ_IPQRw"
      },
      "source": [
        "# *b) Please input the latitude and longitude for all weather stations within this range*\n"
      ]
    },
    {
      "cell_type": "code",
      "execution_count": null,
      "metadata": {
        "id": "kaHC9BuEPP_I"
      },
      "outputs": [],
      "source": [
        "from string import Template\n",
        "def printStation(conn):\n",
        "    \"\"\"\n",
        "    Print out the infomation of a station given a longitude and latitude\n",
        "    \"\"\"\n",
        "    lon_num = float(input(\"Please input the longitude for all weather stations within this range: \"))\n",
        "    lati_num = float(input(\"Please input the latitude for all weather stations within this range: \"))\n",
        "    with conn:\n",
        "      sql = \"SELECT longitude,latitude,station_name FROM station_detail WHERE longitude >? AND latitude >?\"\n",
        "      cur = conn.cursor()\n",
        "      cur.execute(sql, (lon_num, lati_num))\n",
        "      result_set = cur.fetchall()\n",
        "      \n",
        "    s3 =\"There are {$number} weather stations within the range of {$longitude}{$latitude}, which are {$station_name}.\"\n",
        "    tmp3 = Template(s3)\n",
        "\n",
        "    s_3 = tmp3.safe_substitute(number = len(result_set), longitude = lon_num, latitude = lati_num, station_name = result_set)\n",
        "    print('===================================================================')\n",
        " \n",
        "    name_list = []\n",
        "    data_list = []\n",
        "    i = 0\n",
        "    for item in result_set:\n",
        "        name_list.append(item[1])\n",
        "        data_list.append(item[2])\n",
        "    print(\"There are {} weather stations within the range of {} and {},\\n which are {}.\".format(len(result_set),lon_num,lati_num,data_list))"
      ]
    },
    {
      "cell_type": "markdown",
      "metadata": {
        "id": "CDPGFM3nRRFX"
      },
      "source": [
        "# **2.Temperature reports**"
      ]
    },
    {
      "cell_type": "markdown",
      "metadata": {
        "id": "dcaqGRV9Fp5i"
      },
      "source": [
        "#*a)* Please input the year,month and station name to get monthly temperature report."
      ]
    },
    {
      "cell_type": "code",
      "execution_count": null,
      "metadata": {
        "id": "jqvfitY1RbtT"
      },
      "outputs": [],
      "source": [
        "def month_temperature(conn):\n",
        "  year_input=input('please input the year:')\n",
        "  month_input=input('please input the month:')\n",
        "  station=input('please input the station name:')\n",
        "  with conn:\n",
        "    sql=\"SELECT avg(Tavg),max(Tavg),min(Tavg) FROM climate_data NATURAL JOIN station_detail WHERE station_name=? AND month=? AND year=?\"\n",
        "    cur = conn.cursor()\n",
        "    cur.execute(sql,(station,month_input,year_input))\n",
        "    result_set = cur.fetchall()\n",
        "    avg=result_set[0][0]\n",
        "    highest_avg=result_set[0][1]\n",
        "    lowest_avg=result_set[0][2]\n",
        "    sql=\"SELECT date,month,year,max(Tx) FROM climate_data NATURAL JOIN station_detail WHERE station_name=? and month=? and year=?\"\n",
        "    cur=conn.cursor()\n",
        "    cur.execute(sql,(station,month_input,year_input))\n",
        "    Tx_highest = cur.fetchall()\n",
        "    highest_date=(str(Tx_highest[0][0])+'/'+str(Tx_highest[0][1])+'/'+str(Tx_highest[0][2]))\n",
        "    highest_Tx=Tx_highest[0][3]\n",
        "    sql=\"SELECT date,month,year,min(Tn) FROM climate_data NATURAL JOIN station_detail WHERE station_name=? and month=? and year=?\"\n",
        "    cur=conn.cursor()\n",
        "    cur.execute(sql,(station,month_input,year_input))\n",
        "    Tn_lowest = cur.fetchall()\n",
        "    lowest_date=(str(Tn_lowest[0][0])+'/'+str(Tn_lowest[0][1])+'/'+str(Tn_lowest[0][2]))\n",
        "    lowest_Tn=Tn_lowest[0][3]\n",
        "    sql='SELECT count(*) FROM climate_data NATURAL JOIN station_detail WHERE station_name=? AND month=? AND year=? AND Tx>=32'\n",
        "    cur=conn.cursor()\n",
        "    cur.execute(sql,(station,month_input,year_input))\n",
        "    days = cur.fetchall()\n",
        "    high_days=days[0][0]\n",
        "    sql='SELECT count(*) FROM climate_data NATURAL JOIN station_detail WHERE station_name=? AND month=? AND year=? AND Tn<=20'\n",
        "    cur=conn.cursor()\n",
        "    cur.execute(sql,(station,month_input,year_input))\n",
        "    days_ = cur.fetchall()\n",
        "    low_days=days_[0][0]\n",
        "    print('===================================================================')\n",
        "    print('Here is the monthly temperature report:')\n",
        "    print('In {}/{}, the average temperature this month was {:.1f} degrees and the highest average temperature was {} degrees and the lowest average temperature was \\n{} degrees. On {}, the weather station temperature rose to a maximum of {} degrees this month, while on the contrary, the lowest temperature on \\n{} was {} degrees at the weather station. There were {} days with a maximum temperature of 32 degrees or above and {} days with a minimum temperature \\nof 20 degrees or below.\\n'.format(month_input,year_input,avg,highest_avg,lowest_avg,highest_date,highest_Tx,lowest_date,lowest_Tn,high_days,low_days))\n",
        "    #plot the average,minimum and maximum temperature of certain month\n",
        "    sql='SELECT date,Tn,Tx,Tavg FROM climate_data NATURAL JOIN station_detail WHERE station_name=? AND month=? AND year=?'\n",
        "    cur = conn.cursor()\n",
        "    cur.execute(sql,(station,month_input,year_input))\n",
        "    month_table = cur.fetchall()\n",
        "    Tn_list=[]\n",
        "    Tx_list=[]\n",
        "    Tavg_list=[]\n",
        "    month_date=[]\n",
        "    for i in month_table:\n",
        "      month_date.append(i[0])\n",
        "      Tn_list.append(i[1])\n",
        "      Tx_list.append(i[2])\n",
        "      Tavg_list.append(i[3])\n",
        "    plt.plot(month_date,Tn_list,label='min')\n",
        "    plt.plot(month_date,Tx_list,label='max')\n",
        "    plt.plot(month_date,Tavg_list,label='avg')\n",
        "    plt.xlabel('date')\n",
        "    plt.ylabel('temperature')\n",
        "    plt.title(\"Daily temperature\")\n",
        "    plt.legend(bbox_to_anchor=(1.05, 1), loc=2, borderaxespad=0)\n",
        "    plt.show()\n"
      ]
    },
    {
      "cell_type": "markdown",
      "metadata": {
        "id": "rnqxPKZH7K_d"
      },
      "source": [
        "#*b)* Please input the year and station name to get annual temperature report."
      ]
    },
    {
      "cell_type": "code",
      "execution_count": null,
      "metadata": {
        "id": "rJ17I7-h69fM"
      },
      "outputs": [],
      "source": [
        "#year temperature\n",
        "def year_temperature(conn):\n",
        "  year_input=input('please input the year:')\n",
        "  station=input('please input the station name:')\n",
        "  with conn:\n",
        "    sql=\"SELECT avg(Tavg),max(Tavg),min(Tavg) FROM climate_data NATURAL JOIN station_detail WHERE station_name=? AND year=?\"\n",
        "    cur = conn.cursor()\n",
        "    cur.execute(sql,(station,year_input))\n",
        "    result_set = cur.fetchall()\n",
        "    avg=result_set[0][0]\n",
        "    highest_avg=result_set[0][1]\n",
        "    lowest_avg=result_set[0][2]\n",
        "    sql=\"SELECT date,month,year,max(Tx) FROM climate_data NATURAL JOIN station_detail WHERE station_name=? and year=?\"\n",
        "    cur=conn.cursor()\n",
        "    cur.execute(sql,(station,year_input))\n",
        "    Tx_highest = cur.fetchall()\n",
        "    highest_date=(str(Tx_highest[0][0])+'/'+str(Tx_highest[0][1])+'/'+str(Tx_highest[0][2]))\n",
        "    highest_Tx=Tx_highest[0][3]\n",
        "    sql=\"SELECT date,month,year,min(Tn) FROM climate_data NATURAL JOIN station_detail WHERE station_name=? and year=?\"\n",
        "    cur=conn.cursor()\n",
        "    cur.execute(sql,(station,year_input))\n",
        "    Tn_lowest = cur.fetchall()\n",
        "    lowest_date=(str(Tn_lowest[0][0])+'/'+str(Tn_lowest[0][1])+'/'+str(Tn_lowest[0][2]))\n",
        "    lowest_Tn=Tn_lowest[0][3]\n",
        "    sql='SELECT count(*) FROM climate_data NATURAL JOIN station_detail WHERE station_name=? AND year=? AND Tx>=32'\n",
        "    cur=conn.cursor()\n",
        "    cur.execute(sql,(station,year_input))\n",
        "    days = cur.fetchall()\n",
        "    high_days=days[0][0]\n",
        "    sql='SELECT count(*) FROM climate_data NATURAL JOIN station_detail WHERE station_name=? AND year=? AND Tn<=20'\n",
        "    cur=conn.cursor()\n",
        "    cur.execute(sql,(station,year_input))\n",
        "    days_ = cur.fetchall()\n",
        "    low_days=days_[0][0]\n",
        "    print('===================================================================')\n",
        "    print('Here is the yearly temperature report:')\n",
        "    print('In {}, the average temperature this year was {:.1f} degrees and the highest average temperature was {} degrees and the lowest average temperature \\nwas {} degrees. On {}, the weather station temperature rose to a maximum of {} degrees this year, while on the contrary, the lowest temperature \\non {} was {} degrees at the weather station. There were {} days with a maximum temperature of 32 degrees or above and {} days with a minimum \\ntemperature of 20 degrees or below.\\n'.format(year_input,avg,highest_avg,lowest_avg,highest_date,highest_Tx,lowest_date,lowest_Tn,high_days,low_days))\n",
        "    #plot the average,minimum and maximum temperature of certain year\n",
        "    sql='SELECT month,avg(Tn),avg(Tx),avg(Tavg) FROM climate_data NATURAL JOIN station_detail WHERE station_name=? AND year=? GROUP BY month'\n",
        "    cur = conn.cursor()\n",
        "    cur.execute(sql,(station,year_input))\n",
        "    year_table = cur.fetchall()\n",
        "    Tn_list=[]\n",
        "    Tx_list=[]\n",
        "    Tavg_list=[]\n",
        "    year_month=[]\n",
        "    for i in year_table:\n",
        "      year_month.append(i[0])\n",
        "      Tn_list.append(i[1])\n",
        "      Tx_list.append(i[2])\n",
        "      Tavg_list.append(i[3])\n",
        "    plt.plot(year_month,Tn_list,label='min')\n",
        "    plt.plot(year_month,Tx_list,label='max')\n",
        "    plt.plot(year_month,Tavg_list,label='avg')\n",
        "    plt.xlabel('month')\n",
        "    plt.ylabel('temperature')\n",
        "    plt.title(\"Monthly temperature\")\n",
        "    plt.legend(bbox_to_anchor=(1.05, 1), loc=2, borderaxespad=0)\n",
        "    plt.show()"
      ]
    },
    {
      "cell_type": "markdown",
      "metadata": {
        "id": "RtkRK_eNcv4J"
      },
      "source": [
        "# **3.Rainfall Report**"
      ]
    },
    {
      "cell_type": "markdown",
      "metadata": {
        "id": "-X62NaYHF6BY"
      },
      "source": [
        "#*a) Please input the year, month and station name for the monthly rainfall report.*"
      ]
    },
    {
      "cell_type": "code",
      "execution_count": null,
      "metadata": {
        "id": "XOZbL3ooc2je"
      },
      "outputs": [],
      "source": [
        "#Monthly rainfall report:\n",
        "def month_rainfall(conn):\n",
        "  year_input=input('please input the year:')\n",
        "  month_input=input('please input the month:')\n",
        "  station_input=input('please input the station name:')\n",
        "  with conn:\n",
        "    sql=\"SELECT sum(RR),avg(RR),sum(ss),avg(RH_avg) FROM climate_data NATURAL JOIN station_detail WHERE station_name=? AND month=? AND year=?\"\n",
        "    cur = conn.cursor()\n",
        "    cur.execute(sql,(station_input,month_input,year_input))\n",
        "    all = cur.fetchall()\n",
        "    for result in all:\n",
        "        sum_RR=result[0]\n",
        "        avg_RR=result[1]\n",
        "        sum_ss=result[2]\n",
        "        avg_RH_avg=result[3]    \n",
        "\n",
        "    sql=\"SELECT date,month,year,max(RR) FROM climate_data NATURAL JOIN station_detail WHERE station_name=? and month=? and year=?\"\n",
        "    cur=conn.cursor()\n",
        "    cur.execute(sql,(station_input,month_input,year_input))\n",
        "    max_RR = cur.fetchall()\n",
        "    highest_date=(str(max_RR[0][0])+'/'+str(max_RR[0][1])+'/'+str(max_RR[0][2]))\n",
        "    highest_maxRR=max_RR[0][3]\n",
        "\n",
        "    sql=\"SELECT date,month,year,max(RH_avg) FROM climate_data NATURAL JOIN station_detail WHERE station_name=? and month=? and year=?\"\n",
        "    cur=conn.cursor()\n",
        "    cur.execute(sql,(station_input,month_input,year_input))\n",
        "    max_RH_avg = cur.fetchall()\n",
        "    highest_date_RH=(str(max_RH_avg[0][0])+'/'+str(max_RH_avg[0][1])+'/'+str(max_RH_avg[0][2]))\n",
        "    highest_maxRH=max_RH_avg[0][3]\n",
        "\n",
        "    sql=\"SELECT date,month,year,max(ss) FROM climate_data NATURAL JOIN station_detail WHERE station_name=? and month=? and year=?\"\n",
        "    cur=conn.cursor()\n",
        "    cur.execute(sql,(station_input,month_input,year_input))\n",
        "    max_ss = cur.fetchall()\n",
        "    longest_date_ss=(str(max_ss[0][0])+'/'+str(max_ss[0][1])+'/'+str(max_ss[0][2]))\n",
        "    longest_maxss=max_ss[0][3]\n",
        "     \n",
        "  \n",
        "    print('===================================================================')\n",
        "    print('In {}/{}, the total rainfall for this month was {:.1f} mm, the average rainfall for this month was {:.1f} mm,the total duration of sunshine were {} hours，the average humidity was {:.1f}% . \\nDuring this month, the date with the highest rainfall was {},reaching {:.1f} mm，the day with highest humidity was {}, with a humidity of {} % , which is closely related to rainfall. And the longest day of sunshine was {}, with a total of {:.1f} hours.'.format(month_input,year_input,sum_RR,avg_RR,sum_ss,avg_RH_avg,highest_date,highest_maxRR,highest_date_RH,highest_maxRH,longest_date_ss,longest_maxss))\n",
        "\n",
        " #plot the monthly avgerage humidity, rainfall and duration of sunshine\n",
        "    sql=\"SELECT date,month,year,RH_avg,RR,ss FROM climate_data NATURAL JOIN station_detail WHERE station_name=? and month=? and year=?\"\n",
        "    cur=conn.cursor()\n",
        "    cur.execute(sql,(station_input,month_input,year_input))\n",
        "    all_month = cur.fetchall()\n",
        "\n",
        "    date_list=[]\n",
        "    RH_list=[]\n",
        "    RR_list=[]\n",
        "    ss_list=[]\n",
        "    \n",
        "    i=0\n",
        "    for item in all_month:\n",
        "        date_list.append(item[0])\n",
        "        RH_list.append(item[3])\n",
        "        RR_list.append(item[4])\n",
        "        ss_list.append(item[5])\n",
        "    \n",
        "    plt.figure(figsize=(12, 3))\n",
        "    plt.subplot(1,3,1)\n",
        "    plt.plot(date_list,RH_list)\n",
        "    plt.xlabel('date')\n",
        "    plt.ylabel('%')\n",
        "\n",
        "    plt.subplot(1,3,2)\n",
        "    plt.plot(date_list,RR_list)\n",
        "    plt.xlabel('date')\n",
        "    plt.ylabel('mm')\n",
        "\n",
        "    plt.subplot(1,3,3)\n",
        "    plt.plot(date_list,ss_list)\n",
        "    plt.xlabel('date')\n",
        "    plt.ylabel('hour')\n",
        "\n",
        "    plt.suptitle('Daily avgerage humidity, rainfall and duration of sunshine')\n",
        "    \n",
        "   \n",
        "    plt.show()"
      ]
    },
    {
      "cell_type": "markdown",
      "metadata": {
        "id": "Kw74-rMjJx7i"
      },
      "source": [
        "#*b) Please input the year and station name for the annual rainfall report.*"
      ]
    },
    {
      "cell_type": "code",
      "execution_count": null,
      "metadata": {
        "id": "sfKBjl5QJnZl"
      },
      "outputs": [],
      "source": [
        "#Annual rainfall report\n",
        "def year_rainfall(conn):\n",
        "  year_input=input('please input the year:')\n",
        "  station_input=input('please input the station name:')\n",
        "  with conn:\n",
        "    sql=\"SELECT sum(RR),avg(RR),sum(ss),avg(RH_avg) FROM climate_data NATURAL JOIN station_detail WHERE station_name=? AND year=?\"\n",
        "    cur = conn.cursor()\n",
        "    cur.execute(sql,(station_input,year_input))\n",
        "    all = cur.fetchall()\n",
        "    for result in all:\n",
        "        sum_RR=result[0]\n",
        "        avg_RR=result[1]\n",
        "        sum_ss=result[2]\n",
        "        avg_RH_avg=result[3]\n",
        "    \n",
        "\n",
        "    sql=\"SELECT month,year,max(RR) FROM climate_data NATURAL JOIN station_detail WHERE station_name=? and year=?\"\n",
        "    cur=conn.cursor()\n",
        "    cur.execute(sql,(station_input,year_input))\n",
        "    max_RR = cur.fetchall()\n",
        "    highest_date=(str(max_RR[0][0])+'/'+str(max_RR[0][1]))\n",
        "    highest_maxRR=max_RR[0][2]\n",
        "\n",
        "    sql=\"SELECT month,year,max(RH_avg) FROM climate_data NATURAL JOIN station_detail WHERE station_name=? and year=?\"\n",
        "    cur=conn.cursor()\n",
        "    cur.execute(sql,(station_input,year_input))\n",
        "    max_RH_avg = cur.fetchall()\n",
        "    highest_date_RH=(str(max_RH_avg[0][0])+'/'+str(max_RH_avg[0][1]))\n",
        "    highest_maxRH=max_RH_avg[0][2]\n",
        "\n",
        "    sql=\"SELECT month,year,max(ss) FROM climate_data NATURAL JOIN station_detail WHERE station_name=? and year=?\"\n",
        "    cur=conn.cursor()\n",
        "    cur.execute(sql,(station_input,year_input))\n",
        "    max_ss = cur.fetchall()\n",
        "    longest_date_ss=(str(max_ss[0][0])+'/'+str(max_ss[0][1]))\n",
        "    longest_maxss=max_ss[0][2]\n",
        "     \n",
        "  \n",
        "    print('===================================================================')\n",
        "    print('In {}, the total rainfall for this year was {:.1f} mm, the average rainfall for this year was {:.1f} mm,the total duration of sunshine were {:.1f} hours，the average humidity was {:.1f}% . \\nDuring this year, the month with the highest rainfall was {} ,reaching {:.1f} mm，the month with highest humidity was {}, with a humidity of {:.1f} %. And the longest month of sunshine was {}, with a total of {} hours.'.format(year_input,sum_RR,avg_RR,sum_ss,avg_RH_avg,highest_date,highest_maxRR,highest_date_RH,highest_maxRH,longest_date_ss,longest_maxss))\n",
        "\n",
        " #plot the annual avgerage humidity, rainfall and duration of sunshine\n",
        "    sql=\"SELECT date,month,year,RH_avg,RR,ss FROM climate_data NATURAL JOIN station_detail WHERE station_name=? and year=? GROUP BY month\"\n",
        "    cur=conn.cursor()\n",
        "    cur.execute(sql,(station_input,year_input))\n",
        "    all_year = cur.fetchall()\n",
        "\n",
        "    date_list=[]\n",
        "    RH_list=[]\n",
        "    RR_list=[]\n",
        "    ss_list=[]\n",
        "    \n",
        "    i=0\n",
        "    for item in all_year:\n",
        "        date_list.append(item[1])\n",
        "        RH_list.append(item[3])\n",
        "        RR_list.append(item[4])\n",
        "        ss_list.append(item[5])\n",
        "    \n",
        "    plt.figure(figsize=(12,3))\n",
        "    plt.subplot(1,3,1)\n",
        "    plt.plot(date_list,RH_list)\n",
        "    plt.xlim(0,12) \n",
        "    plt.xlabel('month')\n",
        "    plt.ylabel('%')\n",
        "\n",
        "    plt.subplot(1,3,2)\n",
        "    plt.plot(date_list,RR_list)\n",
        "    plt.xlabel('month')\n",
        "    plt.ylabel('mm')\n",
        "\n",
        "    plt.subplot(1,3,3)\n",
        "    plt.plot(date_list,ss_list)\n",
        "    plt.xlabel('month')\n",
        "    plt.ylabel('hour')\n",
        "\n",
        "    plt.suptitle('Monthly avgerage humidity, rainfall and duration of sunshine')\n",
        "    \n",
        "   \n",
        "    plt.show()"
      ]
    },
    {
      "cell_type": "markdown",
      "metadata": {
        "id": "pvdD6OTiYRLt"
      },
      "source": [
        "# **4.wind report**"
      ]
    },
    {
      "cell_type": "markdown",
      "metadata": {
        "id": "VhqhlPdaE_xP"
      },
      "source": [
        "# *a) Please input the year, month and station name for the monthly wind report.*\n"
      ]
    },
    {
      "cell_type": "code",
      "execution_count": null,
      "metadata": {
        "id": "mm2eH_OpYQPP"
      },
      "outputs": [],
      "source": [
        "# Print a monthly wind report.\n",
        "def month_wind(conn):\n",
        "  year_input=input('Please input the year:')\n",
        "  month_input=input('Please input the month:')\n",
        "  station_input=input('Please input the station name:')\n",
        "  with conn:\n",
        "    sql=\"SELECT avg(FF_AVG), avg(FF_AVG_F), DDD_X, DDD_CAR, max(FF_X), max(FF_X_F) FROM climate_data NATURAL JOIN station_detail WHERE station_name=? AND month=? AND year=?\"\n",
        "    cur = conn.cursor()\n",
        "    cur.execute(sql,(station_input,month_input,year_input))\n",
        "    all = cur.fetchall()\n",
        "    for result in all:\n",
        "        FF_AVG = result[0]\n",
        "        FF_AVG_F = int(round(result[1],0))\n",
        "        DDD_X = result[2]\n",
        "        DDD_CAR = result[3]\n",
        "        FF_X = result[4] \n",
        "        FF_X_F = result[5]\n",
        "    print('')\n",
        "    print('In {} of {}, the average wind speed of {} was {:.1f}(m/s) and the wind level was {}.\\nBesides, the max wind speed which came from {}°{} was {} (m/s) and the wind level at the time was {}.'.\\\n",
        "    format(month_input, year_input, station_input, FF_AVG, FF_AVG_F, DDD_X, DDD_CAR, FF_X, FF_X_F))\n",
        "    print('')\n",
        "\n",
        "\n",
        "# Plot a monthly wind graph.\n",
        "    sql=\"SELECT date,month,year,FF_AVG,FF_AVG_F,FF_X,FF_X_F FROM climate_data NATURAL JOIN station_detail WHERE station_name=? and month=? and year=?\"\n",
        "    cur=conn.cursor()\n",
        "    cur.execute(sql,(station_input,month_input,year_input))\n",
        "    all_month = cur.fetchall()\n",
        "\n",
        "    date_list=[]\n",
        "    FF_AVG_list=[]\n",
        "    FF_AVG_F_list=[]\n",
        "\n",
        "    # ignore the null value.\n",
        "    for item in all_month:\n",
        "        if item[3] is None:\n",
        "          continue\n",
        "        else:\n",
        "          date_list.append(item[0])\n",
        "          FF_AVG_list.append(int(item[3]))\n",
        "          FF_AVG_F_list.append(int(item[4]))\n",
        "    \n",
        "    fontdict = {'color': 'black','size': 12} \n",
        "    \n",
        "    plt.figure(figsize=(15, 6))\n",
        "    plt.subplot(1,2,1)\n",
        "    plt.scatter(date_list,FF_AVG_list)\n",
        "    plt.xlabel('date', fontdict=fontdict)\n",
        "    plt.ylabel('wind speed(m/s)', fontdict=fontdict) \n",
        "    plt.tick_params(labelsize=12)\n",
        "    y_major_locator=MultipleLocator(1)\n",
        "    ax=plt.gca()\n",
        "    ax.yaxis.set_major_locator(y_major_locator)\n",
        "\n",
        "\n",
        "    plt.subplot(1,2,2)\n",
        "    plt.scatter(date_list,FF_AVG_F_list)\n",
        "    plt.xlabel('date', fontdict=fontdict)\n",
        "    plt.ylabel('wind level', fontdict=fontdict)\n",
        "    plt.tick_params(labelsize=12)\n",
        "    y_major_locator=MultipleLocator(1)\n",
        "    ax=plt.gca()\n",
        "    ax.yaxis.set_major_locator(y_major_locator)\n",
        "\n",
        "    plt.suptitle('Daily Average Wind Speed and Wind Level', size=20)\n",
        "    plt.show()\n",
        "    print('')\n",
        "\n",
        "    \n",
        "    date_list1=[]\n",
        "    FF_X_list=[]\n",
        "    FF_X_F_list=[]\n",
        "\n",
        "    for item2 in all_month:\n",
        "        if item2[5] is None:\n",
        "          continue\n",
        "        else:\n",
        "          date_list1.append(item2[0])\n",
        "          FF_X_list.append(int(item2[5]))\n",
        "          FF_X_F_list.append(int(item2[6]))\n",
        "\n",
        "    plt.figure(figsize=(15, 6))\n",
        "    plt.subplot(1,2,1)\n",
        "    plt.scatter(date_list1,FF_X_list)\n",
        "    plt.xlabel('date', fontdict=fontdict)\n",
        "    plt.ylabel('wind speed(m/s)', fontdict=fontdict)\n",
        "    plt.tick_params(labelsize=12)\n",
        "    y_major_locator=MultipleLocator(1)\n",
        "    ax=plt.gca()\n",
        "    ax.yaxis.set_major_locator(y_major_locator)\n",
        "\n",
        "\n",
        "    plt.subplot(1,2,2)\n",
        "    plt.scatter(date_list1,FF_X_F_list)\n",
        "    plt.xlabel('date', fontdict=fontdict)\n",
        "    plt.ylabel('wind level', fontdict=fontdict) \n",
        "    plt.tick_params(labelsize=12)\n",
        "    y_major_locator=MultipleLocator(1)\n",
        "    ax=plt.gca()\n",
        "    ax.yaxis.set_major_locator(y_major_locator)\n",
        " \n",
        "\n",
        "    plt.suptitle('Daily Maximum Wind Speed and Wind Level', size=20)\n",
        "    \n",
        "    plt.show()\n"
      ]
    },
    {
      "cell_type": "markdown",
      "metadata": {
        "id": "0Hy2Ou9NGfe4"
      },
      "source": [
        "# *b) Please input the year and station name for the annual wind report.*\n"
      ]
    },
    {
      "cell_type": "code",
      "execution_count": null,
      "metadata": {
        "id": "1YMCMfjMY0wD"
      },
      "outputs": [],
      "source": [
        "# Print an annual wind report.\n",
        "def year_wind(conn):\n",
        "  year_input=input('Please input the year:')\n",
        "  station_input=input('Please input the station name:')\n",
        "  with conn:\n",
        "    sql=\"SELECT avg(FF_AVG), DDD_X, DDD_CAR, max(FF_X) FROM climate_data NATURAL JOIN station_detail WHERE station_name=? AND year=?\"\n",
        "    cur = conn.cursor()\n",
        "    cur.execute(sql,(station_input,year_input))\n",
        "    all = cur.fetchall()\n",
        "    for result in all:\n",
        "        FF_AVG = result[0]\n",
        "        DDD_X = result[1]\n",
        "        DDD_CAR = result[2]\n",
        "        FF_X = result[3] \n",
        "    print('')\n",
        "    print('In {}, the average wind speed of {} was {:.1f}(m/s).\\nBesides, the max wind speed which came from {}°{} was {} (m/s).'.\\\n",
        "    format(year_input, station_input, FF_AVG, DDD_X, DDD_CAR, FF_X))\n",
        "    print('')\n",
        "\n",
        "\n",
        "# Plot an annual wind graph.\n",
        "    sql=\"SELECT month,avg(FF_AVG),max(FF_X) FROM climate_data NATURAL JOIN station_detail WHERE station_name=? and year=? GROUP BY month\"\n",
        "    cur=conn.cursor()\n",
        "    cur.execute(sql,(station_input,year_input))\n",
        "    all_month = cur.fetchall()\n",
        "\n",
        "    month_list=[]\n",
        "    FF_AVG_list=[]\n",
        "\n",
        "    for item in all_month:\n",
        "        if item[1] is None:\n",
        "          continue\n",
        "        else:\n",
        "          month_list.append(item[0])\n",
        "          FF_AVG_list.append(int(item[1]))\n",
        "    \n",
        "    fontdict = {'color': 'black','size': 12} \n",
        "\n",
        "    plt.figure(figsize=(10, 6))\n",
        "    plt.plot(month_list,FF_AVG_list)\n",
        "    plt.xlabel('month',fontdict=fontdict)\n",
        "    a = range(1,13,1)\n",
        "    plt.xticks(a)\n",
        "    plt.ylabel('wind speed(m/s)', fontdict=fontdict)\n",
        "    plt.tick_params(labelsize=12)\n",
        "    y_major_locator=MultipleLocator(1)\n",
        "    ax=plt.gca()\n",
        "    ax.yaxis.set_major_locator(y_major_locator)\n",
        "\n",
        "    plt.title('Monthly Average Wind Speed', size=20)\n",
        "    plt.show()\n",
        "\n",
        "    print('')\n",
        "    \n",
        "    month_list1=[]\n",
        "    FF_X_list=[]\n",
        "\n",
        "    for item2 in all_month:\n",
        "        if item2[2] is None:\n",
        "          continue\n",
        "        else:\n",
        "          month_list1.append(item2[0])\n",
        "          FF_X_list.append(int(item2[2]))\n",
        "       \n",
        "\n",
        "    plt.figure(figsize=(10, 6))\n",
        "    plt.plot(month_list1,FF_X_list)\n",
        "    plt.xlabel('month', fontdict=fontdict)\n",
        "    plt.xticks(a)\n",
        "    plt.ylabel('wind speed(m/s)', fontdict=fontdict)\n",
        "    plt.tick_params(labelsize=12)\n",
        "    y_major_locator=MultipleLocator(1)\n",
        "    ax=plt.gca()\n",
        "    ax.yaxis.set_major_locator(y_major_locator)\n",
        "\n",
        "    plt.title('Monthly Maximum Wind Speed', size=20)\n",
        "    \n",
        "    plt.show()\n",
        "\n"
      ]
    },
    {
      "cell_type": "markdown",
      "metadata": {
        "id": "ra1LGK0-Q0Xw"
      },
      "source": [
        "# **option**"
      ]
    },
    {
      "cell_type": "code",
      "execution_count": 5,
      "metadata": {
        "colab": {
          "base_uri": "https://localhost:8080/",
          "height": 733
        },
        "id": "rAuasP4AQZ5v",
        "outputId": "9a62845c-b174-43e3-a0c1-d5d65f78ff30"
      },
      "outputs": [
        {
          "data": {
            "image/png": "[encoded data removed]",
            "text/plain": [
              "<PIL.JpegImagePlugin.JpegImageFile image mode=RGB size=99x50 at 0x7FB1054FE1D0>"
            ]
          },
          "metadata": {},
          "output_type": "display_data"
        },
        {
          "metadata": {
            "tags": null
          },
          "name": "stdout",
          "output_type": "stream",
          "text": [
            "\n",
            "---------------------------\n",
            "Please choose following option:\n",
            "1.  Station reports \n",
            "2.  Annual/Monthly temperature reports\n",
            "3.  Annual/Monthly rainfall reports\n",
            "4.  Annual/Monthly wind report\n",
            "5.  Insert climate data\n",
            "6.  exit\n",
            "---------------------------\n",
            "Please choose following option:\n",
            "1.  Wind report for a certain month in a certain year\n",
            "2.  Wind report in a certain year\n",
            "3.  exit\n"
          ]
        },
        {
          "output_type": "error",
          "ename": "KeyboardInterrupt",
          "evalue": "ignored",
          "traceback": [
            "\u001b[0;31m---------------------------------------------------------------------------\u001b[0m",
            "\u001b[0;31mKeyboardInterrupt\u001b[0m                         Traceback (most recent call last)",
            "\u001b[0;32m<ipython-input-5-5b7ac48e2b7b>\u001b[0m in \u001b[0;36m<module>\u001b[0;34m\u001b[0m\n\u001b[1;32m    110\u001b[0m     \u001b[0;32melif\u001b[0m \u001b[0mchoice\u001b[0m \u001b[0;34m==\u001b[0m \u001b[0;34m'4'\u001b[0m\u001b[0;34m:\u001b[0m\u001b[0;34m\u001b[0m\u001b[0;34m\u001b[0m\u001b[0m\n\u001b[1;32m    111\u001b[0m         \u001b[0mwind_options\u001b[0m\u001b[0;34m(\u001b[0m\u001b[0;34m)\u001b[0m\u001b[0;34m\u001b[0m\u001b[0;34m\u001b[0m\u001b[0m\n\u001b[0;32m--> 112\u001b[0;31m         \u001b[0mwind_choice\u001b[0m\u001b[0;34m=\u001b[0m\u001b[0minput\u001b[0m\u001b[0;34m(\u001b[0m\u001b[0;34m'Please enter your option: '\u001b[0m\u001b[0;34m)\u001b[0m\u001b[0;34m\u001b[0m\u001b[0;34m\u001b[0m\u001b[0m\n\u001b[0m\u001b[1;32m    113\u001b[0m         \u001b[0;32mif\u001b[0m \u001b[0mwind_choice\u001b[0m \u001b[0;34m==\u001b[0m\u001b[0;34m'1'\u001b[0m\u001b[0;34m:\u001b[0m\u001b[0;34m\u001b[0m\u001b[0;34m\u001b[0m\u001b[0m\n\u001b[1;32m    114\u001b[0m             \u001b[0mmonth_wind\u001b[0m\u001b[0;34m(\u001b[0m\u001b[0mconn\u001b[0m\u001b[0;34m)\u001b[0m\u001b[0;34m\u001b[0m\u001b[0;34m\u001b[0m\u001b[0m\n",
            "\u001b[0;32m/usr/local/lib/python3.7/dist-packages/ipykernel/kernelbase.py\u001b[0m in \u001b[0;36mraw_input\u001b[0;34m(self, prompt)\u001b[0m\n\u001b[1;32m    861\u001b[0m             \u001b[0mself\u001b[0m\u001b[0;34m.\u001b[0m\u001b[0m_parent_ident\u001b[0m\u001b[0;34m,\u001b[0m\u001b[0;34m\u001b[0m\u001b[0;34m\u001b[0m\u001b[0m\n\u001b[1;32m    862\u001b[0m             \u001b[0mself\u001b[0m\u001b[0;34m.\u001b[0m\u001b[0m_parent_header\u001b[0m\u001b[0;34m,\u001b[0m\u001b[0;34m\u001b[0m\u001b[0;34m\u001b[0m\u001b[0m\n\u001b[0;32m--> 863\u001b[0;31m             \u001b[0mpassword\u001b[0m\u001b[0;34m=\u001b[0m\u001b[0;32mFalse\u001b[0m\u001b[0;34m,\u001b[0m\u001b[0;34m\u001b[0m\u001b[0;34m\u001b[0m\u001b[0m\n\u001b[0m\u001b[1;32m    864\u001b[0m         )\n\u001b[1;32m    865\u001b[0m \u001b[0;34m\u001b[0m\u001b[0m\n",
            "\u001b[0;32m/usr/local/lib/python3.7/dist-packages/ipykernel/kernelbase.py\u001b[0m in \u001b[0;36m_input_request\u001b[0;34m(self, prompt, ident, parent, password)\u001b[0m\n\u001b[1;32m    902\u001b[0m             \u001b[0;32mexcept\u001b[0m \u001b[0mKeyboardInterrupt\u001b[0m\u001b[0;34m:\u001b[0m\u001b[0;34m\u001b[0m\u001b[0;34m\u001b[0m\u001b[0m\n\u001b[1;32m    903\u001b[0m                 \u001b[0;31m# re-raise KeyboardInterrupt, to truncate traceback\u001b[0m\u001b[0;34m\u001b[0m\u001b[0;34m\u001b[0m\u001b[0;34m\u001b[0m\u001b[0m\n\u001b[0;32m--> 904\u001b[0;31m                 \u001b[0;32mraise\u001b[0m \u001b[0mKeyboardInterrupt\u001b[0m\u001b[0;34m(\u001b[0m\u001b[0;34m\"Interrupted by user\"\u001b[0m\u001b[0;34m)\u001b[0m \u001b[0;32mfrom\u001b[0m \u001b[0;32mNone\u001b[0m\u001b[0;34m\u001b[0m\u001b[0;34m\u001b[0m\u001b[0m\n\u001b[0m\u001b[1;32m    905\u001b[0m             \u001b[0;32mexcept\u001b[0m \u001b[0mException\u001b[0m \u001b[0;32mas\u001b[0m \u001b[0me\u001b[0m\u001b[0;34m:\u001b[0m\u001b[0;34m\u001b[0m\u001b[0;34m\u001b[0m\u001b[0m\n\u001b[1;32m    906\u001b[0m                 \u001b[0mself\u001b[0m\u001b[0;34m.\u001b[0m\u001b[0mlog\u001b[0m\u001b[0;34m.\u001b[0m\u001b[0mwarning\u001b[0m\u001b[0;34m(\u001b[0m\u001b[0;34m\"Invalid Message:\"\u001b[0m\u001b[0;34m,\u001b[0m \u001b[0mexc_info\u001b[0m\u001b[0;34m=\u001b[0m\u001b[0;32mTrue\u001b[0m\u001b[0;34m)\u001b[0m\u001b[0;34m\u001b[0m\u001b[0;34m\u001b[0m\u001b[0m\n",
            "\u001b[0;31mKeyboardInterrupt\u001b[0m: Interrupted by user"
          ]
        }
      ],
      "source": [
        "def main_picture():\n",
        "    im = Image.open(fileName)\n",
        "    size = (200, 50)\n",
        "#resize\n",
        "    im.thumbnail(size)\n",
        "#display an image inline\n",
        "    display(im)\n",
        "    print('')\n",
        "\n",
        "def main_options():\n",
        "    \"\"\" Show the options \"\"\"\n",
        "    choices = [\"Station reports \", \n",
        "               \"Annual/Monthly temperature reports\",\n",
        "\t\t\t         \"Annual/Monthly rainfall reports\", \n",
        "               \"Annual/Monthly wind report\",\n",
        "               \"Insert climate data\",\n",
        "\t\t           \"exit\"]\n",
        "\n",
        "    print(\"---------------------------\")\n",
        "    print(\"Please choose following option:\")\n",
        "    print(\"1. \", choices[0])\n",
        "    print(\"2. \", choices[1])\n",
        "    print(\"3. \", choices[2])\n",
        "    print(\"4. \", choices[3])\n",
        "    print(\"5. \", choices[4])\n",
        "    print(\"6. \", choices[5])\n",
        "\n",
        "def station_options():\n",
        "    choices = [\"Station reports for the province\", \"Station reports for the longitude and the latitude\"]\n",
        "    print(\"---------------------------\")\n",
        "    print(\"Please choose following option:\")\n",
        "    print(\"1. \", choices[0])\n",
        "    print(\"2. \", choices[1])\n",
        "\n",
        "def temperature_options():\n",
        "    choices=[\"Temperature report for a certain month in a certain year\", \"Temperature report in a certain year\",\"exit\"]\n",
        "    print(\"---------------------------\")\n",
        "    print(\"Please choose following option:\")\n",
        "    print(\"1. \", choices[0])\n",
        "    print(\"2. \", choices[1])\n",
        "    print(\"3. \", choices[2])\n",
        "\n",
        "def rainfall_options():\n",
        "    choices=[\"Rainfall report for a certain month in a certain year\", \"Rainfall report in a certain year\",\"exit\"]\n",
        "    print(\"---------------------------\")\n",
        "    print(\"Please choose following option:\")\n",
        "    print(\"1. \", choices[0])\n",
        "    print(\"2. \", choices[1])\n",
        "    print(\"3. \", choices[2])\n",
        "\n",
        "\n",
        "def wind_options():\n",
        "    choices=[\"Wind report for a certain month in a certain year\", \"Wind report in a certain year\",\"exit\"]\n",
        "    print(\"---------------------------\")\n",
        "    print(\"Please choose following option:\")\n",
        "    print(\"1. \", choices[0])\n",
        "    print(\"2. \", choices[1])\n",
        "    print(\"3. \", choices[2])\n",
        "\n",
        "def addclimate(conn):\n",
        "    \"\"\"\n",
        "    Insert data into database\n",
        "    A sample input is: 1(day),10(month),2021(year),25(Tn),30(Tx),27(Tavg),80(avg humidity),5(rainfall),9(duration of sunshine),6(max wind speed),120(wind direction at maximum speed),3(avg wind speed),S(most wind direction),96001(station_id)\n",
        "    :return: lastrow id\n",
        "    \"\"\"\n",
        "    values=input('A sample input is: 1(day),10(month),2021(year),25(Tn),30(Tx),27(Tavg),80(avg humidity),5(rainfall),9(duration of sunshine),6(max wind speed),4(max wind force),120(wind direction at maximum speed),3(avg wind speed),2(average wind force),S(most wind direction),96001(station_id)\\nPlease input the data:')\n",
        "    with conn:\n",
        "        sql = \"INSERT INTO climate_data VALUES(?, ?, ?, ?, ?, ?,?,?,?,?,?,?,?,?,?,?)\"\n",
        "        cur = conn.cursor()\n",
        "        cur.execute(sql, (values[0], values[1], values[2], values[3], values[4], values[5],values[6],values[7],values[8],values[9],values[10],values[11],values[12],values[13],values[14],values[15]))\n",
        "    print(\"succeed to add a climate data \")\n",
        "\n",
        "while True:\n",
        "    main_picture()\n",
        "    main_options()\n",
        "    choice = input('Please enter your option: ')\n",
        "    if choice == '6':\n",
        "        conn.close()\n",
        "        break\n",
        "    elif choice == '1':\n",
        "        station_options()\n",
        "        sta_choice = input('Please enter your option: ')\n",
        "        if sta_choice =='1':\n",
        "          printProvinceInfo(conn)\n",
        "        elif sta_choice=='2':\n",
        "          printStation(conn)\n",
        "        elif sta_choice=='3':\n",
        "          conn.close()\n",
        "          break  \n",
        "    elif choice == '2':\n",
        "        temperature_options()\n",
        "        temp_choice=input('Please enter your option: ')\n",
        "        if temp_choice=='1':\n",
        "          month_temperature(conn)\n",
        "        elif temp_choice=='2':\n",
        "          year_temperature(conn)\n",
        "        elif temp_choice=='3':\n",
        "          conn.close()\n",
        "          break\n",
        "    elif choice == '3':\n",
        "        rainfall_options()\n",
        "        rainfall_choice=input('Please enter your option: ')\n",
        "        if rainfall_choice =='1':\n",
        "            month_rainfall(conn)\n",
        "        elif rainfall_choice =='2':\n",
        "            year_rainfall(conn)\n",
        "        elif rainfall_choice =='3':\n",
        "          conn.close()\n",
        "          break\n",
        "    elif choice == '4':\n",
        "        wind_options()\n",
        "        wind_choice=input('Please enter your option: ')\n",
        "        if wind_choice =='1':\n",
        "            month_wind(conn)\n",
        "        elif wind_choice =='2':\n",
        "            year_wind(conn)\n",
        "        elif wind_choice =='3':\n",
        "          conn.close()\n",
        "          break\n",
        "    elif choice=='5':\n",
        "      addclimate(conn)\n",
        "    else:\n",
        "        print(\"This option is not available\")\n",
        "        continue"
      ]
    }
  ],
  "metadata": {
    "colab": {
      "provenance": []
    },
    "kernelspec": {
      "display_name": "Python 3",
      "name": "python3"
    },
    "language_info": {
      "name": "python"
    }
  },
  "nbformat": 4,
  "nbformat_minor": 0
}